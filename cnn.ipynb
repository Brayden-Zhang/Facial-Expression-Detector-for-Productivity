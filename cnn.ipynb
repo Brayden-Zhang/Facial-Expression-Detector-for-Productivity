{
 "cells": [
  {
   "cell_type": "code",
   "execution_count": 35,
   "metadata": {},
   "outputs": [],
   "source": [
    "import matplotlib.pyplot as plt\n",
    "import numpy as np\n",
    "import pandas as pd\n",
    "import seaborn as sns\n",
    "import os\n",
    "import scipy"
   ]
  },
  {
   "cell_type": "code",
   "execution_count": 36,
   "metadata": {},
   "outputs": [],
   "source": [
    "# Importing Deep Learning Libraries\n",
    "\n",
    "from tensorflow.keras.preprocessing.image import load_img, img_to_array\n",
    "from keras.preprocessing.image import ImageDataGenerator\n",
    "from keras.layers import Dense,Input,Dropout,GlobalAveragePooling2D,Flatten,Conv2D,BatchNormalization,Activation,MaxPooling2D\n",
    "from keras.models import Model,Sequential\n",
    "from keras.optimizers import Adam,SGD,RMSprop"
   ]
  },
  {
   "cell_type": "markdown",
   "metadata": {},
   "source": [
    "## Checking the image size\n"
   ]
  },
  {
   "cell_type": "code",
   "execution_count": 37,
   "metadata": {},
   "outputs": [
    {
     "name": "stdout",
     "output_type": "stream",
     "text": [
      "Image Width: 48px, Height: 48px\n"
     ]
    },
    {
     "data": {
      "text/plain": [
       "'Darwin'"
      ]
     },
     "execution_count": 37,
     "metadata": {},
     "output_type": "execute_result"
    }
   ],
   "source": [
    "from PIL import Image\n",
    "\n",
    "# Open the image file\n",
    "img = Image.open('images/test/active/8.jpg')  # Replace 'your_image.jpg' with your image file path\n",
    "\n",
    "# Get the width and height of the image\n",
    "width, height = img.size\n",
    "\n",
    "# Print the dimensions\n",
    "print(f\"Image Width: {width}px, Height: {height}px\")\n",
    "import platform\n",
    "platform.system()"
   ]
  },
  {
   "cell_type": "code",
   "execution_count": 31,
   "metadata": {},
   "outputs": [
    {
     "name": "stdout",
     "output_type": "stream",
     "text": [
      "Epoch 1/10\n",
      "303/303 [==============================] - 24s 77ms/step - loss: 0.6739 - accuracy: 0.5926 - val_loss: 0.6545 - val_accuracy: 0.6051\n",
      "Epoch 2/10\n",
      "303/303 [==============================] - 23s 77ms/step - loss: 0.6606 - accuracy: 0.6074 - val_loss: 0.6457 - val_accuracy: 0.6188\n",
      "Epoch 3/10\n",
      "303/303 [==============================] - 24s 78ms/step - loss: 0.6581 - accuracy: 0.6164 - val_loss: 0.6389 - val_accuracy: 0.6249\n",
      "Epoch 4/10\n",
      "303/303 [==============================] - 23s 75ms/step - loss: 0.6528 - accuracy: 0.6239 - val_loss: 0.6365 - val_accuracy: 0.6328\n",
      "Epoch 5/10\n",
      "303/303 [==============================] - 23s 76ms/step - loss: 0.6509 - accuracy: 0.6265 - val_loss: 0.6365 - val_accuracy: 0.6357\n",
      "Epoch 6/10\n",
      "303/303 [==============================] - 23s 77ms/step - loss: 0.6432 - accuracy: 0.6318 - val_loss: 0.6231 - val_accuracy: 0.6464\n",
      "Epoch 7/10\n",
      "303/303 [==============================] - 24s 79ms/step - loss: 0.6421 - accuracy: 0.6356 - val_loss: 0.6220 - val_accuracy: 0.6497\n",
      "Epoch 8/10\n",
      "303/303 [==============================] - 24s 79ms/step - loss: 0.6369 - accuracy: 0.6397 - val_loss: 0.6079 - val_accuracy: 0.6687\n",
      "Epoch 9/10\n",
      "303/303 [==============================] - 23s 77ms/step - loss: 0.6161 - accuracy: 0.6578 - val_loss: 0.5585 - val_accuracy: 0.7121\n",
      "Epoch 10/10\n",
      "303/303 [==============================] - 24s 78ms/step - loss: 0.5916 - accuracy: 0.6842 - val_loss: 0.5049 - val_accuracy: 0.7662\n",
      "93/93 [==============================] - 2s 16ms/step - loss: 0.5001 - accuracy: 0.7547\n",
      "Test accuracy: 0.7547233700752258\n",
      "Model: \"sequential_20\"\n",
      "_________________________________________________________________\n",
      " Layer (type)                Output Shape              Param #   \n",
      "=================================================================\n",
      " conv2d_84 (Conv2D)          (None, 46, 46, 64)        640       \n",
      "                                                                 \n",
      " max_pooling2d_78 (MaxPooli  (None, 23, 23, 64)        0         \n",
      " ng2D)                                                           \n",
      "                                                                 \n",
      " conv2d_85 (Conv2D)          (None, 21, 21, 128)       73856     \n",
      "                                                                 \n",
      " max_pooling2d_79 (MaxPooli  (None, 10, 10, 128)       0         \n",
      " ng2D)                                                           \n",
      "                                                                 \n",
      " conv2d_86 (Conv2D)          (None, 8, 8, 512)         590336    \n",
      "                                                                 \n",
      " max_pooling2d_80 (MaxPooli  (None, 4, 4, 512)         0         \n",
      " ng2D)                                                           \n",
      "                                                                 \n",
      " conv2d_87 (Conv2D)          (None, 2, 2, 512)         2359808   \n",
      "                                                                 \n",
      " max_pooling2d_81 (MaxPooli  (None, 1, 1, 512)         0         \n",
      " ng2D)                                                           \n",
      "                                                                 \n",
      " flatten_20 (Flatten)        (None, 512)               0         \n",
      "                                                                 \n",
      " dense_40 (Dense)            (None, 128)               65664     \n",
      "                                                                 \n",
      " dropout_20 (Dropout)        (None, 128)               0         \n",
      "                                                                 \n",
      " dense_41 (Dense)            (None, 1)                 129       \n",
      "                                                                 \n",
      "=================================================================\n",
      "Total params: 3090433 (11.79 MB)\n",
      "Trainable params: 3090433 (11.79 MB)\n",
      "Non-trainable params: 0 (0.00 Byte)\n",
      "_________________________________________________________________\n"
     ]
    },
    {
     "name": "stderr",
     "output_type": "stream",
     "text": [
      "/opt/homebrew/lib/python3.11/site-packages/keras/src/engine/training.py:3079: UserWarning: You are saving your model as an HDF5 file via `model.save()`. This file format is considered legacy. We recommend using instead the native Keras format, e.g. `model.save('my_model.keras')`.\n",
      "  saving_api.save_model(\n"
     ]
    }
   ],
   "source": [
    "import tensorflow\n",
    "import pandas as pd\n",
    "import numpy as np\n",
    "from tensorflow.keras.preprocessing.image import ImageDataGenerator\n",
    "from tensorflow.keras.models import Sequential\n",
    "from tensorflow.keras.layers import Conv2D, MaxPooling2D, Flatten, Dense, Dropout\n",
    "from sklearn.model_selection import train_test_split\n",
    "from PIL import Image\n",
    "\n",
    "# Load datasets\n",
    "train_set = pd.read_csv('train.csv')\n",
    "test_set = pd.read_csv('test.csv')\n",
    "\n",
    "def load_images(image_paths, img_size=(48, 48)):\n",
    "    images = []\n",
    "    for path in image_paths:\n",
    "        unix_path = path.replace('\\\\', '/')\n",
    "        path = path if platform.system() == 'Windows' else unix_path\n",
    "        # Open image, resize it and convert to grayscale \n",
    "        img = Image.open(path).resize(img_size).convert('L') \n",
    "        # Convert image to numpy array and normalize (rescale) it\n",
    "        img = np.array(img) / 255.0\n",
    "        images.append(img)\n",
    "    \n",
    "    return np.array(images)\n",
    "\n",
    "\n",
    "X_train = load_images(train_set['path'].values)\n",
    "y_train = train_set['label'].values\n",
    "\n",
    "X_test = load_images(test_set['path'].values)\n",
    "y_test = test_set['label'].values\n",
    "\n",
    "# Reshape the data\n",
    "X_train = X_train.reshape(-1, 48, 48, 1)\n",
    "X_test = X_test.reshape(-1, 48, 48, 1)\n",
    "\n",
    "# Split the data into training and validation sets\n",
    "X_train, X_val, y_train, y_val = train_test_split(X_train, y_train, test_size=0.2, random_state=42)\n",
    "\n",
    "# Define the model architecture\n",
    "model = Sequential([\n",
    "    Conv2D(64, (3, 3), activation='relu', input_shape=(48, 48, 1)),\n",
    "    MaxPooling2D((2, 2)),\n",
    "\n",
    "    Conv2D(128, (3, 3), activation='relu'),\n",
    "    MaxPooling2D((2, 2)),\n",
    "    Conv2D(512, (3, 3), activation='relu'),\n",
    "    MaxPooling2D((2, 2)),\n",
    "    Conv2D(64, (3, 3), activation='relu'),\n",
    "    MaxPooling2D((2, 2)),\n",
    "    Flatten(),\n",
    "    Dense(128, activation='relu'),\n",
    "    Dropout(0.5),\n",
    "    Dense(1, activation='sigmoid')  # Sigmoid activation for binary classification\n",
    "])\n",
    "\n",
    "# Compile the model\n",
    "model.compile(optimizer='adam', loss='binary_crossentropy', metrics=['accuracy'])\n",
    "\n",
    "# Initialize the ImageDataGenerator using data augmentation\n",
    "datagen = ImageDataGenerator(\n",
    "    rotation_range=20,\n",
    "    width_shift_range=0.2,\n",
    "    height_shift_range=0.2,\n",
    "    shear_range=0.2,\n",
    "    zoom_range=0.2,\n",
    "    horizontal_flip=True,\n",
    "    fill_mode='nearest'\n",
    ")\n",
    "\n",
    "# Fit the model on the training data\n",
    "model.fit(datagen.flow(X_train, y_train, batch_size=32), epochs=10, validation_data=(X_val, y_val))\n",
    "\n",
    "# Evaluate the model on the test set\n",
    "test_loss, test_acc = model.evaluate(X_test, y_test)\n",
    "print('Test accuracy:', test_acc)\n",
    "\n",
    "model.summary()\n",
    "\n",
    "# Save the model\n",
    "model.save('my_model.h5')\n"
   ]
  },
  {
   "cell_type": "markdown",
   "metadata": {},
   "source": [
    "## Running the Model"
   ]
  },
  {
   "cell_type": "code",
   "execution_count": 46,
   "metadata": {},
   "outputs": [
    {
     "name": "stdout",
     "output_type": "stream",
     "text": [
      "1/1 [==============================] - 0s 36ms/step\n",
      "[[0.41061386]]\n",
      "The predicted class is: Fatigue\n"
     ]
    },
    {
     "name": "stderr",
     "output_type": "stream",
     "text": [
      "/var/folders/ws/19lkb7nj69xgjyvy0bfnz48w0000gn/T/ipykernel_716/1103312686.py:29: DeprecationWarning: Conversion of an array with ndim > 0 to a scalar is deprecated, and will error in future. Ensure you extract a single element from your array before performing this operation. (Deprecated NumPy 1.25.)\n",
      "  predicted_class = int(prediction > 0.5)  # Using 0.5 as the threshold\n"
     ]
    }
   ],
   "source": [
    "from tensorflow.keras.models import load_model\n",
    "from PIL import Image\n",
    "import numpy as np\n",
    "\n",
    "# Load the trained model\n",
    "model = load_model('my_model.h5')\n",
    "\n",
    "\n",
    "def load_single_image(path, img_size=(48, 48)):\n",
    "    images = []\n",
    "    unix_path = path.replace('\\\\', '/')\n",
    "    path = path if platform.system() == 'Windows' else unix_path\n",
    "    # Open image, resize it and convert to grayscale \n",
    "    img = Image.open(path).resize(img_size).convert('L') \n",
    "    # Convert image to numpy array and normalize (rescale) it\n",
    "    img = np.array(img) / 255.0\n",
    "    images.append(img)\n",
    "    \n",
    "    return np.array(images)\n",
    "# Path to the new image\n",
    "image_path = 'me.jpg'\n",
    "\n",
    "# Preprocess the image\n",
    "preprocessed_image = load_single_image(image_path)\n",
    "\n",
    "# Predict the class with the model\n",
    "prediction = model.predict(preprocessed_image)\n",
    "print(prediction)\n",
    "predicted_class = int(prediction > 0.5)  # Using 0.5 as the threshold\n",
    "\n",
    "# Print the predicted class\n",
    "print(f\"The predicted class is: {'Active' if predicted_class else 'Fatigue'}\")\n"
   ]
  },
  {
   "cell_type": "markdown",
   "metadata": {},
   "source": []
  }
 ],
 "metadata": {
  "kernelspec": {
   "display_name": "Python 3",
   "language": "python",
   "name": "python3"
  },
  "language_info": {
   "codemirror_mode": {
    "name": "ipython",
    "version": 3
   },
   "file_extension": ".py",
   "mimetype": "text/x-python",
   "name": "python",
   "nbconvert_exporter": "python",
   "pygments_lexer": "ipython3",
   "version": "3.11.6"
  }
 },
 "nbformat": 4,
 "nbformat_minor": 2
}
